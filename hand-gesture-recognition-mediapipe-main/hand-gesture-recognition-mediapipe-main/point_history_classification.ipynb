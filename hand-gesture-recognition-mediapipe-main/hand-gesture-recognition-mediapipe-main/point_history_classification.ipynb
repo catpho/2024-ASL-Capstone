{
 "cells": [
  {
   "cell_type": "code",
   "execution_count": 1,
   "metadata": {},
   "outputs": [],
   "source": [
    "import csv\n",
    "\n",
    "import numpy as np\n",
    "import tensorflow as tf\n",
    "from sklearn.model_selection import train_test_split\n",
    "\n",
    "RANDOM_SEED = 42"
   ]
  },
  {
   "cell_type": "markdown",
   "metadata": {},
   "source": [
    "# 各パス指定"
   ]
  },
  {
   "cell_type": "code",
   "execution_count": 2,
   "metadata": {},
   "outputs": [],
   "source": [
    "dataset = 'model/point_history_classifier/point_history.csv'\n",
    "model_save_path = 'model/point_history_classifier/point_history_classifier.hdf5'"
   ]
  },
  {
   "cell_type": "markdown",
   "metadata": {},
   "source": [
    "# 分類数設定"
   ]
  },
  {
   "cell_type": "code",
   "execution_count": 3,
   "metadata": {},
   "outputs": [],
   "source": [
    "NUM_CLASSES = 2"
   ]
  },
  {
   "cell_type": "markdown",
   "metadata": {},
   "source": [
    "# 入力長"
   ]
  },
  {
   "cell_type": "code",
   "execution_count": 4,
   "metadata": {},
   "outputs": [],
   "source": [
    "TIME_STEPS = 16\n",
    "DIMENSION = 2"
   ]
  },
  {
   "cell_type": "markdown",
   "metadata": {},
   "source": [
    "# 学習データ読み込み"
   ]
  },
  {
   "cell_type": "code",
   "execution_count": 5,
   "metadata": {},
   "outputs": [],
   "source": [
    "X_dataset = np.loadtxt(dataset, delimiter=',', dtype='float32', usecols=list(range(1, (TIME_STEPS * DIMENSION) + 1)))"
   ]
  },
  {
   "cell_type": "code",
   "execution_count": 6,
   "metadata": {},
   "outputs": [],
   "source": [
    "y_dataset = np.loadtxt(dataset, delimiter=',', dtype='int32', usecols=(0))"
   ]
  },
  {
   "cell_type": "code",
   "execution_count": 7,
   "metadata": {},
   "outputs": [],
   "source": [
    "X_train, X_test, y_train, y_test = train_test_split(X_dataset, y_dataset, train_size=0.75, random_state=RANDOM_SEED)"
   ]
  },
  {
   "cell_type": "markdown",
   "metadata": {},
   "source": [
    "# モデル構築"
   ]
  },
  {
   "cell_type": "code",
   "execution_count": 8,
   "metadata": {},
   "outputs": [],
   "source": [
    "use_lstm = False\n",
    "model = None\n",
    "\n",
    "if use_lstm:\n",
    "    model = tf.keras.models.Sequential([\n",
    "        tf.keras.layers.InputLayer(input_shape=(TIME_STEPS * DIMENSION, )),\n",
    "        tf.keras.layers.Reshape((TIME_STEPS, DIMENSION), input_shape=(TIME_STEPS * DIMENSION, )), \n",
    "        tf.keras.layers.Dropout(0.2),\n",
    "        tf.keras.layers.LSTM(16, input_shape=[TIME_STEPS, DIMENSION]),\n",
    "        tf.keras.layers.Dropout(0.5),\n",
    "        tf.keras.layers.Dense(10, activation='relu'),\n",
    "        tf.keras.layers.Dense(NUM_CLASSES, activation='softmax')\n",
    "    ])\n",
    "else:\n",
    "    model = tf.keras.models.Sequential([\n",
    "        tf.keras.layers.InputLayer(input_shape=(TIME_STEPS * DIMENSION, )),\n",
    "        tf.keras.layers.Dropout(0.2),\n",
    "        tf.keras.layers.Dense(24, activation='relu'),\n",
    "        tf.keras.layers.Dropout(0.5),\n",
    "        tf.keras.layers.Dense(10, activation='relu'),\n",
    "        tf.keras.layers.Dense(NUM_CLASSES, activation='softmax')\n",
    "    ])"
   ]
  },
  {
   "cell_type": "code",
   "execution_count": 9,
   "metadata": {},
   "outputs": [
    {
     "name": "stdout",
     "output_type": "stream",
     "text": [
      "Model: \"sequential\"\n",
      "_________________________________________________________________\n",
      " Layer (type)                Output Shape              Param #   \n",
      "=================================================================\n",
      " dropout (Dropout)           (None, 32)                0         \n",
      "                                                                 \n",
      " dense (Dense)               (None, 24)                792       \n",
      "                                                                 \n",
      " dropout_1 (Dropout)         (None, 24)                0         \n",
      "                                                                 \n",
      " dense_1 (Dense)             (None, 10)                250       \n",
      "                                                                 \n",
      " dense_2 (Dense)             (None, 2)                 22        \n",
      "                                                                 \n",
      "=================================================================\n",
      "Total params: 1,064\n",
      "Trainable params: 1,064\n",
      "Non-trainable params: 0\n",
      "_________________________________________________________________\n"
     ]
    }
   ],
   "source": [
    "model.summary()  # tf.keras.utils.plot_model(model, show_shapes=True)"
   ]
  },
  {
   "cell_type": "code",
   "execution_count": 10,
   "metadata": {},
   "outputs": [],
   "source": [
    "# モデルチェックポイントのコールバック\n",
    "cp_callback = tf.keras.callbacks.ModelCheckpoint(\n",
    "    model_save_path, verbose=1, save_weights_only=False)\n",
    "# 早期打ち切り用コールバック\n",
    "es_callback = tf.keras.callbacks.EarlyStopping(patience=20, verbose=1)"
   ]
  },
  {
   "cell_type": "code",
   "execution_count": 11,
   "metadata": {},
   "outputs": [],
   "source": [
    "# モデルコンパイル\n",
    "model.compile(\n",
    "    optimizer='adam',\n",
    "    loss='sparse_categorical_crossentropy',\n",
    "    metrics=['accuracy']\n",
    ")"
   ]
  },
  {
   "cell_type": "markdown",
   "metadata": {},
   "source": [
    "# モデル訓練"
   ]
  },
  {
   "cell_type": "code",
   "execution_count": 12,
   "metadata": {
    "scrolled": true
   },
   "outputs": [
    {
     "name": "stdout",
     "output_type": "stream",
     "text": [
      "Epoch 1/1000\n",
      " 1/11 [=>............................] - ETA: 25s - loss: 0.6935 - accuracy: 0.0312\n",
      "Epoch 1: saving model to model/point_history_classifier\\point_history_classifier.hdf5\n",
      "11/11 [==============================] - 4s 107ms/step - loss: 0.6841 - accuracy: 0.7560 - val_loss: 0.6760 - val_accuracy: 0.8311\n",
      "Epoch 2/1000\n",
      " 1/11 [=>............................] - ETA: 0s - loss: 0.6720 - accuracy: 0.8594\n",
      "Epoch 2: saving model to model/point_history_classifier\\point_history_classifier.hdf5\n",
      "11/11 [==============================] - 0s 22ms/step - loss: 0.6667 - accuracy: 0.8476 - val_loss: 0.6573 - val_accuracy: 0.8311\n",
      "Epoch 3/1000\n",
      " 1/11 [=>............................] - ETA: 0s - loss: 0.6536 - accuracy: 0.8672\n",
      "Epoch 3: saving model to model/point_history_classifier\\point_history_classifier.hdf5\n",
      "11/11 [==============================] - 0s 20ms/step - loss: 0.6470 - accuracy: 0.8476 - val_loss: 0.6373 - val_accuracy: 0.8266\n",
      "Epoch 4/1000\n",
      " 1/11 [=>............................] - ETA: 0s - loss: 0.6350 - accuracy: 0.8516\n",
      "Epoch 4: saving model to model/point_history_classifier\\point_history_classifier.hdf5\n",
      "11/11 [==============================] - 0s 22ms/step - loss: 0.6251 - accuracy: 0.8461 - val_loss: 0.6157 - val_accuracy: 0.8266\n",
      "Epoch 5/1000\n",
      " 1/11 [=>............................] - ETA: 0s - loss: 0.6300 - accuracy: 0.7656\n",
      "Epoch 5: saving model to model/point_history_classifier\\point_history_classifier.hdf5\n",
      "11/11 [==============================] - 0s 19ms/step - loss: 0.6013 - accuracy: 0.8468 - val_loss: 0.5932 - val_accuracy: 0.8266\n",
      "Epoch 6/1000\n",
      " 1/11 [=>............................] - ETA: 0s - loss: 0.5709 - accuracy: 0.8984\n",
      "Epoch 6: saving model to model/point_history_classifier\\point_history_classifier.hdf5\n",
      "11/11 [==============================] - 0s 20ms/step - loss: 0.5784 - accuracy: 0.8461 - val_loss: 0.5696 - val_accuracy: 0.8266\n",
      "Epoch 7/1000\n",
      "11/11 [==============================] - ETA: 0s - loss: 0.5552 - accuracy: 0.8423\n",
      "Epoch 7: saving model to model/point_history_classifier\\point_history_classifier.hdf5\n",
      "11/11 [==============================] - 0s 22ms/step - loss: 0.5552 - accuracy: 0.8423 - val_loss: 0.5462 - val_accuracy: 0.8266\n",
      "Epoch 8/1000\n",
      " 1/11 [=>............................] - ETA: 0s - loss: 0.5199 - accuracy: 0.8828\n",
      "Epoch 8: saving model to model/point_history_classifier\\point_history_classifier.hdf5\n",
      "11/11 [==============================] - 0s 19ms/step - loss: 0.5292 - accuracy: 0.8446 - val_loss: 0.5242 - val_accuracy: 0.8266\n",
      "Epoch 9/1000\n",
      " 1/11 [=>............................] - ETA: 0s - loss: 0.5050 - accuracy: 0.8594\n",
      "Epoch 9: saving model to model/point_history_classifier\\point_history_classifier.hdf5\n",
      "11/11 [==============================] - 0s 19ms/step - loss: 0.5060 - accuracy: 0.8446 - val_loss: 0.5046 - val_accuracy: 0.8266\n",
      "Epoch 10/1000\n",
      " 1/11 [=>............................] - ETA: 0s - loss: 0.5178 - accuracy: 0.8203\n",
      "Epoch 10: saving model to model/point_history_classifier\\point_history_classifier.hdf5\n",
      "11/11 [==============================] - 0s 18ms/step - loss: 0.4872 - accuracy: 0.8423 - val_loss: 0.4881 - val_accuracy: 0.8266\n",
      "Epoch 11/1000\n",
      " 1/11 [=>............................] - ETA: 0s - loss: 0.5082 - accuracy: 0.8125\n",
      "Epoch 11: saving model to model/point_history_classifier\\point_history_classifier.hdf5\n",
      "11/11 [==============================] - 0s 17ms/step - loss: 0.4711 - accuracy: 0.8416 - val_loss: 0.4761 - val_accuracy: 0.8266\n",
      "Epoch 12/1000\n",
      " 1/11 [=>............................] - ETA: 0s - loss: 0.4070 - accuracy: 0.8828\n",
      "Epoch 12: saving model to model/point_history_classifier\\point_history_classifier.hdf5\n",
      "11/11 [==============================] - 0s 19ms/step - loss: 0.4652 - accuracy: 0.8438 - val_loss: 0.4675 - val_accuracy: 0.8266\n",
      "Epoch 13/1000\n",
      " 1/11 [=>............................] - ETA: 0s - loss: 0.4372 - accuracy: 0.8672\n",
      "Epoch 13: saving model to model/point_history_classifier\\point_history_classifier.hdf5\n",
      "11/11 [==============================] - 0s 20ms/step - loss: 0.4473 - accuracy: 0.8446 - val_loss: 0.4621 - val_accuracy: 0.8266\n",
      "Epoch 14/1000\n",
      " 1/11 [=>............................] - ETA: 0s - loss: 0.4342 - accuracy: 0.8594\n",
      "Epoch 14: saving model to model/point_history_classifier\\point_history_classifier.hdf5\n",
      "11/11 [==============================] - 0s 18ms/step - loss: 0.4480 - accuracy: 0.8423 - val_loss: 0.4589 - val_accuracy: 0.8288\n",
      "Epoch 15/1000\n",
      " 1/11 [=>............................] - ETA: 0s - loss: 0.4193 - accuracy: 0.8359\n",
      "Epoch 15: saving model to model/point_history_classifier\\point_history_classifier.hdf5\n",
      "11/11 [==============================] - 0s 18ms/step - loss: 0.4416 - accuracy: 0.8423 - val_loss: 0.4572 - val_accuracy: 0.8288\n",
      "Epoch 16/1000\n",
      " 1/11 [=>............................] - ETA: 0s - loss: 0.4395 - accuracy: 0.8359\n",
      "Epoch 16: saving model to model/point_history_classifier\\point_history_classifier.hdf5\n",
      "11/11 [==============================] - 0s 20ms/step - loss: 0.4388 - accuracy: 0.8431 - val_loss: 0.4563 - val_accuracy: 0.8288\n",
      "Epoch 17/1000\n",
      " 1/11 [=>............................] - ETA: 0s - loss: 0.4657 - accuracy: 0.8438\n",
      "Epoch 17: saving model to model/point_history_classifier\\point_history_classifier.hdf5\n",
      "11/11 [==============================] - 0s 20ms/step - loss: 0.4464 - accuracy: 0.8438 - val_loss: 0.4557 - val_accuracy: 0.8288\n",
      "Epoch 18/1000\n",
      " 1/11 [=>............................] - ETA: 0s - loss: 0.4715 - accuracy: 0.8281\n",
      "Epoch 18: saving model to model/point_history_classifier\\point_history_classifier.hdf5\n",
      "11/11 [==============================] - 0s 19ms/step - loss: 0.4426 - accuracy: 0.8423 - val_loss: 0.4552 - val_accuracy: 0.8288\n",
      "Epoch 19/1000\n",
      " 1/11 [=>............................] - ETA: 0s - loss: 0.3787 - accuracy: 0.8828\n",
      "Epoch 19: saving model to model/point_history_classifier\\point_history_classifier.hdf5\n",
      "11/11 [==============================] - 0s 19ms/step - loss: 0.4404 - accuracy: 0.8453 - val_loss: 0.4547 - val_accuracy: 0.8288\n",
      "Epoch 20/1000\n",
      " 1/11 [=>............................] - ETA: 0s - loss: 0.3910 - accuracy: 0.8828\n",
      "Epoch 20: saving model to model/point_history_classifier\\point_history_classifier.hdf5\n",
      "11/11 [==============================] - 0s 20ms/step - loss: 0.4332 - accuracy: 0.8453 - val_loss: 0.4543 - val_accuracy: 0.8288\n",
      "Epoch 21/1000\n",
      " 1/11 [=>............................] - ETA: 0s - loss: 0.4916 - accuracy: 0.8203\n",
      "Epoch 21: saving model to model/point_history_classifier\\point_history_classifier.hdf5\n",
      "11/11 [==============================] - 0s 20ms/step - loss: 0.4368 - accuracy: 0.8468 - val_loss: 0.4540 - val_accuracy: 0.8288\n",
      "Epoch 22/1000\n",
      " 1/11 [=>............................] - ETA: 0s - loss: 0.4461 - accuracy: 0.8438\n",
      "Epoch 22: saving model to model/point_history_classifier\\point_history_classifier.hdf5\n",
      "11/11 [==============================] - 0s 18ms/step - loss: 0.4299 - accuracy: 0.8476 - val_loss: 0.4538 - val_accuracy: 0.8288\n",
      "Epoch 23/1000\n",
      " 1/11 [=>............................] - ETA: 0s - loss: 0.4404 - accuracy: 0.8359\n",
      "Epoch 23: saving model to model/point_history_classifier\\point_history_classifier.hdf5\n",
      "11/11 [==============================] - 0s 18ms/step - loss: 0.4271 - accuracy: 0.8476 - val_loss: 0.4537 - val_accuracy: 0.8288\n",
      "Epoch 24/1000\n",
      " 1/11 [=>............................] - ETA: 0s - loss: 0.4280 - accuracy: 0.8672\n",
      "Epoch 24: saving model to model/point_history_classifier\\point_history_classifier.hdf5\n",
      "11/11 [==============================] - 0s 20ms/step - loss: 0.4401 - accuracy: 0.8498 - val_loss: 0.4536 - val_accuracy: 0.8288\n",
      "Epoch 25/1000\n",
      " 1/11 [=>............................] - ETA: 0s - loss: 0.4181 - accuracy: 0.8594\n",
      "Epoch 25: saving model to model/point_history_classifier\\point_history_classifier.hdf5\n",
      "11/11 [==============================] - 0s 20ms/step - loss: 0.4330 - accuracy: 0.8491 - val_loss: 0.4534 - val_accuracy: 0.8288\n",
      "Epoch 26/1000\n",
      " 1/11 [=>............................] - ETA: 0s - loss: 0.5370 - accuracy: 0.7812\n",
      "Epoch 26: saving model to model/point_history_classifier\\point_history_classifier.hdf5\n",
      "11/11 [==============================] - 0s 19ms/step - loss: 0.4374 - accuracy: 0.8468 - val_loss: 0.4530 - val_accuracy: 0.8288\n",
      "Epoch 27/1000\n",
      " 1/11 [=>............................] - ETA: 0s - loss: 0.4089 - accuracy: 0.8594\n",
      "Epoch 27: saving model to model/point_history_classifier\\point_history_classifier.hdf5\n",
      "11/11 [==============================] - 0s 20ms/step - loss: 0.4246 - accuracy: 0.8491 - val_loss: 0.4531 - val_accuracy: 0.8311\n",
      "Epoch 28/1000\n",
      " 1/11 [=>............................] - ETA: 0s - loss: 0.4686 - accuracy: 0.8359\n",
      "Epoch 28: saving model to model/point_history_classifier\\point_history_classifier.hdf5\n",
      "11/11 [==============================] - 0s 18ms/step - loss: 0.4304 - accuracy: 0.8498 - val_loss: 0.4529 - val_accuracy: 0.8311\n",
      "Epoch 29/1000\n",
      " 1/11 [=>............................] - ETA: 0s - loss: 0.4901 - accuracy: 0.8203\n",
      "Epoch 29: saving model to model/point_history_classifier\\point_history_classifier.hdf5\n",
      "11/11 [==============================] - 0s 19ms/step - loss: 0.4309 - accuracy: 0.8483 - val_loss: 0.4526 - val_accuracy: 0.8311\n",
      "Epoch 30/1000\n",
      " 1/11 [=>............................] - ETA: 0s - loss: 0.5150 - accuracy: 0.8047\n",
      "Epoch 30: saving model to model/point_history_classifier\\point_history_classifier.hdf5\n",
      "11/11 [==============================] - 0s 18ms/step - loss: 0.4328 - accuracy: 0.8483 - val_loss: 0.4525 - val_accuracy: 0.8311\n",
      "Epoch 31/1000\n",
      " 1/11 [=>............................] - ETA: 0s - loss: 0.4323 - accuracy: 0.8516\n",
      "Epoch 31: saving model to model/point_history_classifier\\point_history_classifier.hdf5\n",
      "11/11 [==============================] - 0s 20ms/step - loss: 0.4348 - accuracy: 0.8483 - val_loss: 0.4524 - val_accuracy: 0.8311\n",
      "Epoch 32/1000\n",
      " 1/11 [=>............................] - ETA: 0s - loss: 0.4727 - accuracy: 0.8125\n",
      "Epoch 32: saving model to model/point_history_classifier\\point_history_classifier.hdf5\n",
      "11/11 [==============================] - 0s 20ms/step - loss: 0.4264 - accuracy: 0.8498 - val_loss: 0.4523 - val_accuracy: 0.8333\n",
      "Epoch 33/1000\n",
      " 1/11 [=>............................] - ETA: 0s - loss: 0.4402 - accuracy: 0.8359\n",
      "Epoch 33: saving model to model/point_history_classifier\\point_history_classifier.hdf5\n",
      "11/11 [==============================] - 0s 19ms/step - loss: 0.4226 - accuracy: 0.8514 - val_loss: 0.4524 - val_accuracy: 0.8333\n",
      "Epoch 34/1000\n",
      " 1/11 [=>............................] - ETA: 0s - loss: 0.3293 - accuracy: 0.8984\n",
      "Epoch 34: saving model to model/point_history_classifier\\point_history_classifier.hdf5\n",
      "11/11 [==============================] - 0s 19ms/step - loss: 0.4306 - accuracy: 0.8476 - val_loss: 0.4526 - val_accuracy: 0.8333\n",
      "Epoch 35/1000\n",
      " 1/11 [=>............................] - ETA: 0s - loss: 0.4593 - accuracy: 0.8281\n",
      "Epoch 35: saving model to model/point_history_classifier\\point_history_classifier.hdf5\n",
      "11/11 [==============================] - 0s 19ms/step - loss: 0.4243 - accuracy: 0.8529 - val_loss: 0.4526 - val_accuracy: 0.8333\n",
      "Epoch 36/1000\n",
      " 1/11 [=>............................] - ETA: 0s - loss: 0.3858 - accuracy: 0.8828\n",
      "Epoch 36: saving model to model/point_history_classifier\\point_history_classifier.hdf5\n",
      "11/11 [==============================] - 0s 21ms/step - loss: 0.4235 - accuracy: 0.8498 - val_loss: 0.4524 - val_accuracy: 0.8333\n",
      "Epoch 37/1000\n",
      " 1/11 [=>............................] - ETA: 0s - loss: 0.4749 - accuracy: 0.8203\n",
      "Epoch 37: saving model to model/point_history_classifier\\point_history_classifier.hdf5\n",
      "11/11 [==============================] - 0s 22ms/step - loss: 0.4294 - accuracy: 0.8483 - val_loss: 0.4521 - val_accuracy: 0.8333\n",
      "Epoch 38/1000\n",
      " 1/11 [=>............................] - ETA: 0s - loss: 0.4568 - accuracy: 0.8359\n",
      "Epoch 38: saving model to model/point_history_classifier\\point_history_classifier.hdf5\n",
      "11/11 [==============================] - 0s 22ms/step - loss: 0.4325 - accuracy: 0.8483 - val_loss: 0.4517 - val_accuracy: 0.8333\n",
      "Epoch 39/1000\n",
      " 1/11 [=>............................] - ETA: 0s - loss: 0.3605 - accuracy: 0.8828\n",
      "Epoch 39: saving model to model/point_history_classifier\\point_history_classifier.hdf5\n",
      "11/11 [==============================] - 0s 21ms/step - loss: 0.4317 - accuracy: 0.8498 - val_loss: 0.4517 - val_accuracy: 0.8333\n",
      "Epoch 40/1000\n",
      " 1/11 [=>............................] - ETA: 0s - loss: 0.4344 - accuracy: 0.8438\n",
      "Epoch 40: saving model to model/point_history_classifier\\point_history_classifier.hdf5\n",
      "11/11 [==============================] - 0s 23ms/step - loss: 0.4263 - accuracy: 0.8506 - val_loss: 0.4517 - val_accuracy: 0.8333\n",
      "Epoch 41/1000\n",
      " 1/11 [=>............................] - ETA: 0s - loss: 0.3839 - accuracy: 0.8672\n",
      "Epoch 41: saving model to model/point_history_classifier\\point_history_classifier.hdf5\n",
      "11/11 [==============================] - 0s 22ms/step - loss: 0.4216 - accuracy: 0.8514 - val_loss: 0.4519 - val_accuracy: 0.8333\n",
      "Epoch 42/1000\n",
      "11/11 [==============================] - ETA: 0s - loss: 0.4298 - accuracy: 0.8498\n",
      "Epoch 42: saving model to model/point_history_classifier\\point_history_classifier.hdf5\n",
      "11/11 [==============================] - 0s 22ms/step - loss: 0.4298 - accuracy: 0.8498 - val_loss: 0.4522 - val_accuracy: 0.8333\n",
      "Epoch 43/1000\n",
      " 1/11 [=>............................] - ETA: 0s - loss: 0.4709 - accuracy: 0.8281\n",
      "Epoch 43: saving model to model/point_history_classifier\\point_history_classifier.hdf5\n",
      "11/11 [==============================] - 0s 23ms/step - loss: 0.4366 - accuracy: 0.8491 - val_loss: 0.4516 - val_accuracy: 0.8333\n",
      "Epoch 44/1000\n",
      "11/11 [==============================] - ETA: 0s - loss: 0.4284 - accuracy: 0.8498\n",
      "Epoch 44: saving model to model/point_history_classifier\\point_history_classifier.hdf5\n",
      "11/11 [==============================] - 0s 21ms/step - loss: 0.4284 - accuracy: 0.8498 - val_loss: 0.4508 - val_accuracy: 0.8333\n",
      "Epoch 45/1000\n",
      " 1/11 [=>............................] - ETA: 0s - loss: 0.4538 - accuracy: 0.8438\n",
      "Epoch 45: saving model to model/point_history_classifier\\point_history_classifier.hdf5\n",
      "11/11 [==============================] - 0s 22ms/step - loss: 0.4283 - accuracy: 0.8498 - val_loss: 0.4506 - val_accuracy: 0.8333\n",
      "Epoch 46/1000\n",
      " 1/11 [=>............................] - ETA: 0s - loss: 0.4470 - accuracy: 0.8359\n",
      "Epoch 46: saving model to model/point_history_classifier\\point_history_classifier.hdf5\n",
      "11/11 [==============================] - 0s 22ms/step - loss: 0.4220 - accuracy: 0.8514 - val_loss: 0.4505 - val_accuracy: 0.8333\n",
      "Epoch 47/1000\n",
      " 1/11 [=>............................] - ETA: 0s - loss: 0.4850 - accuracy: 0.8125\n",
      "Epoch 47: saving model to model/point_history_classifier\\point_history_classifier.hdf5\n",
      "11/11 [==============================] - 0s 21ms/step - loss: 0.4250 - accuracy: 0.8491 - val_loss: 0.4507 - val_accuracy: 0.8333\n",
      "Epoch 48/1000\n",
      " 1/11 [=>............................] - ETA: 0s - loss: 0.4556 - accuracy: 0.8281\n",
      "Epoch 48: saving model to model/point_history_classifier\\point_history_classifier.hdf5\n",
      "11/11 [==============================] - 0s 20ms/step - loss: 0.4208 - accuracy: 0.8514 - val_loss: 0.4514 - val_accuracy: 0.8333\n",
      "Epoch 49/1000\n",
      "11/11 [==============================] - ETA: 0s - loss: 0.4246 - accuracy: 0.8506\n",
      "Epoch 49: saving model to model/point_history_classifier\\point_history_classifier.hdf5\n",
      "11/11 [==============================] - 0s 21ms/step - loss: 0.4246 - accuracy: 0.8506 - val_loss: 0.4514 - val_accuracy: 0.8333\n",
      "Epoch 50/1000\n",
      " 1/11 [=>............................] - ETA: 0s - loss: 0.4612 - accuracy: 0.8281\n",
      "Epoch 50: saving model to model/point_history_classifier\\point_history_classifier.hdf5\n",
      "11/11 [==============================] - 0s 21ms/step - loss: 0.4231 - accuracy: 0.8514 - val_loss: 0.4509 - val_accuracy: 0.8333\n",
      "Epoch 51/1000\n",
      " 1/11 [=>............................] - ETA: 0s - loss: 0.4010 - accuracy: 0.8594\n",
      "Epoch 51: saving model to model/point_history_classifier\\point_history_classifier.hdf5\n",
      "11/11 [==============================] - 0s 21ms/step - loss: 0.4240 - accuracy: 0.8498 - val_loss: 0.4509 - val_accuracy: 0.8333\n",
      "Epoch 52/1000\n",
      " 1/11 [=>............................] - ETA: 0s - loss: 0.4769 - accuracy: 0.8203\n",
      "Epoch 52: saving model to model/point_history_classifier\\point_history_classifier.hdf5\n",
      "11/11 [==============================] - 0s 19ms/step - loss: 0.4325 - accuracy: 0.8506 - val_loss: 0.4504 - val_accuracy: 0.8333\n",
      "Epoch 53/1000\n",
      " 1/11 [=>............................] - ETA: 0s - loss: 0.4237 - accuracy: 0.8438\n",
      "Epoch 53: saving model to model/point_history_classifier\\point_history_classifier.hdf5\n",
      "11/11 [==============================] - 0s 17ms/step - loss: 0.4238 - accuracy: 0.8506 - val_loss: 0.4502 - val_accuracy: 0.8333\n",
      "Epoch 54/1000\n",
      " 1/11 [=>............................] - ETA: 0s - loss: 0.4980 - accuracy: 0.8047\n",
      "Epoch 54: saving model to model/point_history_classifier\\point_history_classifier.hdf5\n",
      "11/11 [==============================] - 0s 21ms/step - loss: 0.4188 - accuracy: 0.8521 - val_loss: 0.4505 - val_accuracy: 0.8333\n",
      "Epoch 55/1000\n",
      " 1/11 [=>............................] - ETA: 0s - loss: 0.3700 - accuracy: 0.8828\n",
      "Epoch 55: saving model to model/point_history_classifier\\point_history_classifier.hdf5\n",
      "11/11 [==============================] - 0s 19ms/step - loss: 0.4193 - accuracy: 0.8506 - val_loss: 0.4509 - val_accuracy: 0.8333\n",
      "Epoch 56/1000\n",
      " 1/11 [=>............................] - ETA: 0s - loss: 0.4243 - accuracy: 0.8594\n",
      "Epoch 56: saving model to model/point_history_classifier\\point_history_classifier.hdf5\n",
      "11/11 [==============================] - 0s 20ms/step - loss: 0.4224 - accuracy: 0.8514 - val_loss: 0.4510 - val_accuracy: 0.8333\n",
      "Epoch 57/1000\n",
      " 1/11 [=>............................] - ETA: 0s - loss: 0.4029 - accuracy: 0.8594\n",
      "Epoch 57: saving model to model/point_history_classifier\\point_history_classifier.hdf5\n",
      "11/11 [==============================] - 0s 20ms/step - loss: 0.4275 - accuracy: 0.8483 - val_loss: 0.4506 - val_accuracy: 0.8333\n",
      "Epoch 58/1000\n",
      " 1/11 [=>............................] - ETA: 0s - loss: 0.3982 - accuracy: 0.8594\n",
      "Epoch 58: saving model to model/point_history_classifier\\point_history_classifier.hdf5\n",
      "11/11 [==============================] - 0s 23ms/step - loss: 0.4222 - accuracy: 0.8506 - val_loss: 0.4505 - val_accuracy: 0.8333\n",
      "Epoch 59/1000\n",
      "11/11 [==============================] - ETA: 0s - loss: 0.4237 - accuracy: 0.8506\n",
      "Epoch 59: saving model to model/point_history_classifier\\point_history_classifier.hdf5\n",
      "11/11 [==============================] - 0s 21ms/step - loss: 0.4237 - accuracy: 0.8506 - val_loss: 0.4505 - val_accuracy: 0.8333\n",
      "Epoch 60/1000\n",
      " 1/11 [=>............................] - ETA: 0s - loss: 0.3606 - accuracy: 0.8828\n",
      "Epoch 60: saving model to model/point_history_classifier\\point_history_classifier.hdf5\n",
      "11/11 [==============================] - 0s 18ms/step - loss: 0.4243 - accuracy: 0.8529 - val_loss: 0.4502 - val_accuracy: 0.8333\n",
      "Epoch 61/1000\n",
      " 1/11 [=>............................] - ETA: 0s - loss: 0.4978 - accuracy: 0.8047\n",
      "Epoch 61: saving model to model/point_history_classifier\\point_history_classifier.hdf5\n",
      "11/11 [==============================] - 0s 18ms/step - loss: 0.4246 - accuracy: 0.8491 - val_loss: 0.4499 - val_accuracy: 0.8333\n",
      "Epoch 62/1000\n",
      " 1/11 [=>............................] - ETA: 0s - loss: 0.3939 - accuracy: 0.8750\n",
      "Epoch 62: saving model to model/point_history_classifier\\point_history_classifier.hdf5\n",
      "11/11 [==============================] - 0s 20ms/step - loss: 0.4214 - accuracy: 0.8521 - val_loss: 0.4500 - val_accuracy: 0.8333\n",
      "Epoch 63/1000\n",
      " 1/11 [=>............................] - ETA: 0s - loss: 0.5093 - accuracy: 0.8047\n",
      "Epoch 63: saving model to model/point_history_classifier\\point_history_classifier.hdf5\n",
      "11/11 [==============================] - 0s 21ms/step - loss: 0.4190 - accuracy: 0.8529 - val_loss: 0.4505 - val_accuracy: 0.8333\n",
      "Epoch 64/1000\n",
      " 1/11 [=>............................] - ETA: 0s - loss: 0.4363 - accuracy: 0.8438\n",
      "Epoch 64: saving model to model/point_history_classifier\\point_history_classifier.hdf5\n",
      "11/11 [==============================] - 0s 20ms/step - loss: 0.4215 - accuracy: 0.8506 - val_loss: 0.4511 - val_accuracy: 0.8333\n",
      "Epoch 65/1000\n",
      " 1/11 [=>............................] - ETA: 0s - loss: 0.3572 - accuracy: 0.8828\n",
      "Epoch 65: saving model to model/point_history_classifier\\point_history_classifier.hdf5\n",
      "11/11 [==============================] - 0s 20ms/step - loss: 0.4214 - accuracy: 0.8514 - val_loss: 0.4513 - val_accuracy: 0.8333\n",
      "Epoch 66/1000\n",
      " 1/11 [=>............................] - ETA: 0s - loss: 0.4438 - accuracy: 0.8359\n",
      "Epoch 66: saving model to model/point_history_classifier\\point_history_classifier.hdf5\n",
      "11/11 [==============================] - 0s 20ms/step - loss: 0.4189 - accuracy: 0.8529 - val_loss: 0.4507 - val_accuracy: 0.8333\n",
      "Epoch 67/1000\n",
      " 1/11 [=>............................] - ETA: 0s - loss: 0.4252 - accuracy: 0.8516\n",
      "Epoch 67: saving model to model/point_history_classifier\\point_history_classifier.hdf5\n",
      "11/11 [==============================] - 0s 18ms/step - loss: 0.4214 - accuracy: 0.8529 - val_loss: 0.4504 - val_accuracy: 0.8333\n",
      "Epoch 68/1000\n",
      " 1/11 [=>............................] - ETA: 0s - loss: 0.4622 - accuracy: 0.8203\n",
      "Epoch 68: saving model to model/point_history_classifier\\point_history_classifier.hdf5\n",
      "11/11 [==============================] - 0s 18ms/step - loss: 0.4204 - accuracy: 0.8514 - val_loss: 0.4500 - val_accuracy: 0.8333\n",
      "Epoch 69/1000\n",
      " 1/11 [=>............................] - ETA: 0s - loss: 0.3649 - accuracy: 0.8828\n",
      "Epoch 69: saving model to model/point_history_classifier\\point_history_classifier.hdf5\n",
      "11/11 [==============================] - 0s 18ms/step - loss: 0.4186 - accuracy: 0.8514 - val_loss: 0.4503 - val_accuracy: 0.8333\n",
      "Epoch 70/1000\n",
      " 1/11 [=>............................] - ETA: 0s - loss: 0.3472 - accuracy: 0.8906\n",
      "Epoch 70: saving model to model/point_history_classifier\\point_history_classifier.hdf5\n",
      "11/11 [==============================] - 0s 19ms/step - loss: 0.4203 - accuracy: 0.8514 - val_loss: 0.4506 - val_accuracy: 0.8333\n",
      "Epoch 71/1000\n",
      " 1/11 [=>............................] - ETA: 0s - loss: 0.4431 - accuracy: 0.8438\n",
      "Epoch 71: saving model to model/point_history_classifier\\point_history_classifier.hdf5\n",
      "11/11 [==============================] - 0s 19ms/step - loss: 0.4224 - accuracy: 0.8506 - val_loss: 0.4504 - val_accuracy: 0.8333\n",
      "Epoch 72/1000\n",
      " 1/11 [=>............................] - ETA: 0s - loss: 0.3990 - accuracy: 0.8594\n",
      "Epoch 72: saving model to model/point_history_classifier\\point_history_classifier.hdf5\n",
      "11/11 [==============================] - 0s 19ms/step - loss: 0.4225 - accuracy: 0.8498 - val_loss: 0.4501 - val_accuracy: 0.8333\n",
      "Epoch 73/1000\n",
      " 1/11 [=>............................] - ETA: 0s - loss: 0.3876 - accuracy: 0.8672\n",
      "Epoch 73: saving model to model/point_history_classifier\\point_history_classifier.hdf5\n",
      "11/11 [==============================] - 0s 18ms/step - loss: 0.4180 - accuracy: 0.8514 - val_loss: 0.4502 - val_accuracy: 0.8333\n",
      "Epoch 74/1000\n",
      " 1/11 [=>............................] - ETA: 0s - loss: 0.4024 - accuracy: 0.8672\n",
      "Epoch 74: saving model to model/point_history_classifier\\point_history_classifier.hdf5\n",
      "11/11 [==============================] - 0s 17ms/step - loss: 0.4187 - accuracy: 0.8529 - val_loss: 0.4505 - val_accuracy: 0.8333\n",
      "Epoch 75/1000\n",
      " 1/11 [=>............................] - ETA: 0s - loss: 0.4491 - accuracy: 0.8359\n",
      "Epoch 75: saving model to model/point_history_classifier\\point_history_classifier.hdf5\n",
      "11/11 [==============================] - 0s 19ms/step - loss: 0.4178 - accuracy: 0.8521 - val_loss: 0.4502 - val_accuracy: 0.8333\n",
      "Epoch 76/1000\n",
      " 1/11 [=>............................] - ETA: 0s - loss: 0.3980 - accuracy: 0.8594\n",
      "Epoch 76: saving model to model/point_history_classifier\\point_history_classifier.hdf5\n",
      "11/11 [==============================] - 0s 16ms/step - loss: 0.4204 - accuracy: 0.8498 - val_loss: 0.4502 - val_accuracy: 0.8333\n",
      "Epoch 77/1000\n",
      " 1/11 [=>............................] - ETA: 0s - loss: 0.4230 - accuracy: 0.8516\n",
      "Epoch 77: saving model to model/point_history_classifier\\point_history_classifier.hdf5\n",
      "11/11 [==============================] - 0s 19ms/step - loss: 0.4210 - accuracy: 0.8521 - val_loss: 0.4501 - val_accuracy: 0.8333\n",
      "Epoch 78/1000\n",
      " 1/11 [=>............................] - ETA: 0s - loss: 0.3959 - accuracy: 0.8594\n",
      "Epoch 78: saving model to model/point_history_classifier\\point_history_classifier.hdf5\n",
      "11/11 [==============================] - 0s 19ms/step - loss: 0.4212 - accuracy: 0.8498 - val_loss: 0.4505 - val_accuracy: 0.8333\n",
      "Epoch 79/1000\n",
      " 1/11 [=>............................] - ETA: 0s - loss: 0.4582 - accuracy: 0.8281\n",
      "Epoch 79: saving model to model/point_history_classifier\\point_history_classifier.hdf5\n",
      "11/11 [==============================] - 0s 19ms/step - loss: 0.4182 - accuracy: 0.8521 - val_loss: 0.4502 - val_accuracy: 0.8333\n",
      "Epoch 80/1000\n",
      " 1/11 [=>............................] - ETA: 0s - loss: 0.4781 - accuracy: 0.8125\n",
      "Epoch 80: saving model to model/point_history_classifier\\point_history_classifier.hdf5\n",
      "11/11 [==============================] - 0s 20ms/step - loss: 0.4174 - accuracy: 0.8521 - val_loss: 0.4509 - val_accuracy: 0.8333\n",
      "Epoch 81/1000\n",
      " 1/11 [=>............................] - ETA: 0s - loss: 0.3539 - accuracy: 0.8906\n",
      "Epoch 81: saving model to model/point_history_classifier\\point_history_classifier.hdf5\n",
      "11/11 [==============================] - 0s 19ms/step - loss: 0.4203 - accuracy: 0.8529 - val_loss: 0.4511 - val_accuracy: 0.8333\n",
      "Epoch 81: early stopping\n"
     ]
    },
    {
     "data": {
      "text/plain": [
       "<keras.callbacks.History at 0x17a3a6cf2d0>"
      ]
     },
     "execution_count": 12,
     "metadata": {},
     "output_type": "execute_result"
    }
   ],
   "source": [
    "model.fit(\n",
    "    X_train,\n",
    "    y_train,\n",
    "    epochs=1000,\n",
    "    batch_size=128,\n",
    "    validation_data=(X_test, y_test),\n",
    "    callbacks=[cp_callback, es_callback]\n",
    ")"
   ]
  },
  {
   "cell_type": "code",
   "execution_count": 13,
   "metadata": {},
   "outputs": [],
   "source": [
    "# 保存したモデルのロード\n",
    "model = tf.keras.models.load_model(model_save_path)"
   ]
  },
  {
   "cell_type": "code",
   "execution_count": 14,
   "metadata": {},
   "outputs": [
    {
     "name": "stdout",
     "output_type": "stream",
     "text": [
      "1/1 [==============================] - 0s 275ms/step\n",
      "[0.8528678  0.14713217]\n",
      "0\n"
     ]
    }
   ],
   "source": [
    "# 推論テスト\n",
    "predict_result = model.predict(np.array([X_test[0]]))\n",
    "print(np.squeeze(predict_result))\n",
    "print(np.argmax(np.squeeze(predict_result)))"
   ]
  },
  {
   "cell_type": "markdown",
   "metadata": {},
   "source": [
    "# 混同行列"
   ]
  },
  {
   "cell_type": "code",
   "execution_count": 15,
   "metadata": {},
   "outputs": [
    {
     "name": "stdout",
     "output_type": "stream",
     "text": [
      "14/14 [==============================] - 0s 2ms/step\n"
     ]
    },
    {
     "data": {
      "image/png": "[encoded data removed]",
      "text/plain": [
       "<Figure size 700x600 with 2 Axes>"
      ]
     },
     "metadata": {},
     "output_type": "display_data"
    },
    {
     "name": "stdout",
     "output_type": "stream",
     "text": [
      "Classification Report\n",
      "              precision    recall  f1-score   support\n",
      "\n",
      "           0       0.83      1.00      0.91       366\n",
      "           1       1.00      0.05      0.10        78\n",
      "\n",
      "    accuracy                           0.83       444\n",
      "   macro avg       0.92      0.53      0.50       444\n",
      "weighted avg       0.86      0.83      0.77       444\n",
      "\n"
     ]
    }
   ],
   "source": [
    "import pandas as pd\n",
    "import seaborn as sns\n",
    "import matplotlib.pyplot as plt\n",
    "from sklearn.metrics import confusion_matrix, classification_report\n",
    "\n",
    "def print_confusion_matrix(y_true, y_pred, report=True):\n",
    "    labels = sorted(list(set(y_true)))\n",
    "    cmx_data = confusion_matrix(y_true, y_pred, labels=labels)\n",
    "    \n",
    "    df_cmx = pd.DataFrame(cmx_data, index=labels, columns=labels)\n",
    " \n",
    "    fig, ax = plt.subplots(figsize=(7, 6))\n",
    "    sns.heatmap(df_cmx, annot=True, fmt='g' ,square=False)\n",
    "    ax.set_ylim(len(set(y_true)), 0)\n",
    "    plt.show()\n",
    "    \n",
    "    if report:\n",
    "        print('Classification Report')\n",
    "        print(classification_report(y_test, y_pred))\n",
    "\n",
    "Y_pred = model.predict(X_test)\n",
    "y_pred = np.argmax(Y_pred, axis=1)\n",
    "\n",
    "print_confusion_matrix(y_test, y_pred)"
   ]
  },
  {
   "cell_type": "markdown",
   "metadata": {},
   "source": [
    "# Tensorflow-Lite用のモデルへ変換"
   ]
  },
  {
   "cell_type": "code",
   "execution_count": 16,
   "metadata": {},
   "outputs": [
    {
     "name": "stdout",
     "output_type": "stream",
     "text": [
      "WARNING:tensorflow:No training configuration found in the save file, so the model was *not* compiled. Compile it manually.\n"
     ]
    }
   ],
   "source": [
    "# 推論専用のモデルとして保存\n",
    "model.save(model_save_path, include_optimizer=False)\n",
    "model = tf.keras.models.load_model(model_save_path)"
   ]
  },
  {
   "cell_type": "code",
   "execution_count": 17,
   "metadata": {},
   "outputs": [],
   "source": [
    "tflite_save_path = 'model/point_history_classifier/point_history_classifier.tflite'"
   ]
  },
  {
   "cell_type": "code",
   "execution_count": 18,
   "metadata": {},
   "outputs": [
    {
     "name": "stdout",
     "output_type": "stream",
     "text": [
      "INFO:tensorflow:Assets written to: C:\\Users\\Cathy\\AppData\\Local\\Temp\\tmp3eigm1np\\assets\n"
     ]
    },
    {
     "data": {
      "text/plain": [
       "6344"
      ]
     },
     "execution_count": 18,
     "metadata": {},
     "output_type": "execute_result"
    }
   ],
   "source": [
    "# モデルを変換(量子化\n",
    "converter = tf.lite.TFLiteConverter.from_keras_model(model)  # converter = tf.lite.TFLiteConverter.from_saved_model(saved_model_path)\n",
    "converter.optimizations = [tf.lite.Optimize.DEFAULT]\n",
    "tflite_quantized_model = converter.convert()\n",
    "\n",
    "open(tflite_save_path, 'wb').write(tflite_quantized_model)"
   ]
  },
  {
   "cell_type": "markdown",
   "metadata": {},
   "source": [
    "# 推論テスト"
   ]
  },
  {
   "cell_type": "code",
   "execution_count": 19,
   "metadata": {},
   "outputs": [],
   "source": [
    "interpreter = tf.lite.Interpreter(model_path=tflite_save_path)\n",
    "interpreter.allocate_tensors()"
   ]
  },
  {
   "cell_type": "code",
   "execution_count": 20,
   "metadata": {},
   "outputs": [
    {
     "name": "stdout",
     "output_type": "stream",
     "text": [
      "[{'name': 'serving_default_input_1:0', 'index': 0, 'shape': array([ 1, 32]), 'shape_signature': array([-1, 32]), 'dtype': <class 'numpy.float32'>, 'quantization': (0.0, 0), 'quantization_parameters': {'scales': array([], dtype=float32), 'zero_points': array([], dtype=int32), 'quantized_dimension': 0}, 'sparsity_parameters': {}}]\n"
     ]
    }
   ],
   "source": [
    "# 入出力テンソルを取得\n",
    "input_details = interpreter.get_input_details()\n",
    "output_details = interpreter.get_output_details()\n",
    "print(input_details)"
   ]
  },
  {
   "cell_type": "code",
   "execution_count": 21,
   "metadata": {},
   "outputs": [],
   "source": [
    "interpreter.set_tensor(input_details[0]['index'], np.array([X_test[0]]))"
   ]
  },
  {
   "cell_type": "code",
   "execution_count": 22,
   "metadata": {},
   "outputs": [
    {
     "name": "stdout",
     "output_type": "stream",
     "text": [
      "CPU times: total: 0 ns\n",
      "Wall time: 0 ns\n"
     ]
    }
   ],
   "source": [
    "%%time\n",
    "# 推論実施\n",
    "interpreter.invoke()\n",
    "tflite_results = interpreter.get_tensor(output_details[0]['index'])"
   ]
  },
  {
   "cell_type": "code",
   "execution_count": 23,
   "metadata": {},
   "outputs": [
    {
     "name": "stdout",
     "output_type": "stream",
     "text": [
      "[0.8528679  0.14713217]\n",
      "0\n"
     ]
    }
   ],
   "source": [
    "print(np.squeeze(tflite_results))\n",
    "print(np.argmax(np.squeeze(tflite_results)))"
   ]
  },
  {
   "cell_type": "code",
   "execution_count": null,
   "metadata": {},
   "outputs": [],
   "source": []
  },
  {
   "cell_type": "code",
   "execution_count": null,
   "metadata": {},
   "outputs": [],
   "source": []
  }
 ],
 "metadata": {
  "kernelspec": {
   "display_name": "Python 3 (ipykernel)",
   "language": "python",
   "name": "python3"
  },
  "language_info": {
   "codemirror_mode": {
    "name": "ipython",
    "version": 3
   },
   "file_extension": ".py",
   "mimetype": "text/x-python",
   "name": "python",
   "nbconvert_exporter": "python",
   "pygments_lexer": "ipython3",
   "version": "3.11.3"
  }
 },
 "nbformat": 4,
 "nbformat_minor": 4
}
